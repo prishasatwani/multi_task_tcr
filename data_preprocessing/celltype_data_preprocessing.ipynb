{
 "cells": [
  {
   "cell_type": "code",
   "execution_count": 1,
   "metadata": {},
   "outputs": [
    {
     "name": "stderr",
     "output_type": "stream",
     "text": [
      "/home/prishasatwani/anaconda3/envs/msc/lib/python3.12/site-packages/tqdm/auto.py:21: TqdmWarning: IProgress not found. Please update jupyter and ipywidgets. See https://ipywidgets.readthedocs.io/en/stable/user_install.html\n",
      "  from .autonotebook import tqdm as notebook_tqdm\n"
     ]
    }
   ],
   "source": [
    "import pandas as pd\n",
    "import pyrepseq as prs\n",
    "import tidytcells\n",
    "from pathlib import Path"
   ]
  },
  {
   "cell_type": "code",
   "execution_count": null,
   "metadata": {},
   "outputs": [],
   "source": [
    "tcr_data_path = Path(\"../tcr_data/\")"
   ]
  },
  {
   "cell_type": "code",
   "execution_count": 2,
   "metadata": {},
   "outputs": [],
   "source": [
    "df = pd.read_csv(tcr_data_path/\"full_table.csv\")\n",
    "\n",
    "tc_df = df.copy(deep=True)\n",
    "# Only keep data where annotation is CD4 or CD8\n",
    "tc_df = tc_df[tc_df['annotation_L1'].isin(['CD4', 'CD8'])].reset_index(drop=True)\n",
    "\n",
    "tc_df = tc_df.drop_duplicates('bioidentity').reset_index(drop=True)\n",
    "\n",
    "#Subsample so that each donor has equal CD4 and CD8 populations\n",
    "grouped = tc_df.groupby(['donor', 'label']).size().unstack(fill_value=0)\n",
    "min_counts = grouped[['CD4', 'CD8']].min(axis=1)\n",
    "subsampled = tc_df.groupby(['donor', 'label']).apply(lambda x: x.sample(min_counts[x.name[0]], random_state=1))\n",
    "tc_df = subsampled.reset_index(drop=True)\n",
    "\n",
    "# Standardize data set to use with sceptr\n",
    "tc_df_standard = prs.standardize_dataframe(tc_df,\n",
    "                          {\"v_gene_A\":\"TRAV\", \"cdr3_A\":\"CDR3A\", \"j_gene_A\":\"TRAJ\",\n",
    "                           \"v_gene_B\":\"TRBV\", \"cdr3_B\":\"CDR3B\", \"j_gene_B\":\"TRBJ\", \"annotation_L1\":\"label\", \"donor\":\"donor\"}, suppress_warnings=True, tcr_precision='allele').reset_index(drop=True)\n",
    "\n"
   ]
  },
  {
   "cell_type": "code",
   "execution_count": 3,
   "metadata": {},
   "outputs": [],
   "source": [
    "tc_df_2 = tc_df_standard.dropna()"
   ]
  },
  {
   "cell_type": "code",
   "execution_count": 7,
   "metadata": {},
   "outputs": [],
   "source": [
    "tc_df_final = tc_df_2.copy(deep=True)\n",
    "tc_df_final[\"TRAV\"] = tc_df_2[\"TRAV\"].map(\n",
    "    lambda x: tidytcells.tr.standardise(x, enforce_functional=True)\n",
    ")\n",
    "tc_df_final[\"TRAJ\"] = tc_df_2[\"TRAJ\"].map(\n",
    "    lambda x: tidytcells.tr.standardise(x, enforce_functional=True)\n",
    ")\n",
    "tc_df_final[\"TRBV\"] = tc_df_2[\"TRBV\"].map(\n",
    "    lambda x: tidytcells.tr.standardise(x, enforce_functional=True)\n",
    ")\n",
    "tc_df_final[\"TRBJ\"] = tc_df_2[\"TRBJ\"].map(\n",
    "    lambda x: tidytcells.tr.standardise(x, enforce_functional=True)\n",
    ")"
   ]
  },
  {
   "cell_type": "code",
   "execution_count": 9,
   "metadata": {},
   "outputs": [],
   "source": [
    "tc_df_final.to_csv(tcr_data_path/\"preprocessed\"/\"celltype_binary.csv\", index=False)"
   ]
  }
 ],
 "metadata": {
  "kernelspec": {
   "display_name": "msc",
   "language": "python",
   "name": "python3"
  },
  "language_info": {
   "codemirror_mode": {
    "name": "ipython",
    "version": 3
   },
   "file_extension": ".py",
   "mimetype": "text/x-python",
   "name": "python",
   "nbconvert_exporter": "python",
   "pygments_lexer": "ipython3",
   "version": "3.12.4"
  }
 },
 "nbformat": 4,
 "nbformat_minor": 2
}
